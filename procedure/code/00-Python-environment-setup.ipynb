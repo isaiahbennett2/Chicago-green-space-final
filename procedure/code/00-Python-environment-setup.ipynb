{
 "cells": [
  {
   "cell_type": "markdown",
   "metadata": {
    "id": "lpUbJuwsgQJu"
   },
   "source": [
    "# Computational environment\n",
    "\n",
    "Note: Lines starting with `!` run in your **terminal**, not in Python.\n",
    "\n",
    "## Recording\n",
    "\n",
    "Create a [virtual environment](https://realpython.com/python-virtual-environments-a-primer/) to ensure reproducibility in your Python packages.\n",
    "\n",
    "The following creates a virtual environment with [`pipenv`](https://pipenv.pypa.io/en/latest/).\n",
    "Other tools exist too, such as [venv](https://docs.python.org/3/library/venv.html) or [conda](https://conda.io/projects/conda/en/latest/user-guide/tasks/manage-environments.html).\n",
    "\n",
    "Be sure to let Jupyter know what environment you are using - search for \"venv with jupyter\", for example.\n",
    "\n",
    "Document the tools you choose to use, and instructions for recovering the computational environment, inside the `procedure/environment/readme.md` file.\n",
    "\n",
    "### `pipenv`\n",
    "\n",
    "First install `pipenv` by running the chunk below:"
   ]
  },
  {
   "cell_type": "code",
   "execution_count": 8,
   "metadata": {
    "colab": {
     "base_uri": "https://localhost:8080/"
    },
    "id": "YCGcY3lah0BU",
    "outputId": "cc60f5ec-03d5-4722-f16b-b3e096a186f4"
   },
   "outputs": [
    {
     "name": "stdout",
     "output_type": "stream",
     "text": [
      "Requirement already satisfied: pipenv in c:\\users\\ibennett\\appdata\\roaming\\python\\python311\\site-packages (2023.11.15)\n",
      "Requirement already satisfied: certifi in c:\\programdata\\anaconda3\\lib\\site-packages (from pipenv) (2023.7.22)\n",
      "Requirement already satisfied: setuptools>=67 in c:\\programdata\\anaconda3\\lib\\site-packages (from pipenv) (68.0.0)\n",
      "Requirement already satisfied: virtualenv>=20.24.2 in c:\\users\\ibennett\\appdata\\roaming\\python\\python311\\site-packages (from pipenv) (20.24.7)\n",
      "Requirement already satisfied: distlib<1,>=0.3.7 in c:\\users\\ibennett\\appdata\\roaming\\python\\python311\\site-packages (from virtualenv>=20.24.2->pipenv) (0.3.7)\n",
      "Requirement already satisfied: filelock<4,>=3.12.2 in c:\\users\\ibennett\\appdata\\roaming\\python\\python311\\site-packages (from virtualenv>=20.24.2->pipenv) (3.13.1)\n",
      "Requirement already satisfied: platformdirs<5,>=3.9.1 in c:\\programdata\\anaconda3\\lib\\site-packages (from virtualenv>=20.24.2->pipenv) (3.10.0)\n"
     ]
    }
   ],
   "source": [
    "!pip install --user pipenv"
   ]
  },
  {
   "cell_type": "markdown",
   "metadata": {
    "id": "F-1ndcK1iFYD"
   },
   "source": [
    "Then, install the packages you need using `pipenv install`.\n",
    "\n",
    "**Do not use** `pip`, since it will not record the install!\n",
    "\n",
    "We will install `pyhere`, a package to simplify directory management.\n",
    "\n",
    "Check out pyhere's documentation [here](https://pypi.org/project/pyhere/).\n",
    "\n",
    "**Note**: if you run into the error `pipenv: command not found`, then replace `pipenv` with `python -m pipenv`."
   ]
  },
  {
   "cell_type": "code",
   "execution_count": 2,
   "metadata": {
    "colab": {
     "base_uri": "https://localhost:8080/"
    },
    "id": "pKr_XDW4iEa5",
    "outputId": "eba58871-fe7d-4f2f-8268-9fa503f92d07"
   },
   "outputs": [
    {
     "name": "stdout",
     "output_type": "stream",
     "text": [
      "[    ] Creating virtual environment...\n",
      "[=   ] Creating virtual environment...\n",
      "[==  ] Creating virtual environment...\n",
      "[=== ] Creating virtual environment...\n",
      "[ ===] Creating virtual environment...\n",
      "[  ==] Creating virtual environment...\n",
      "[    ] Creating virtual environment...\n",
      "[   =] Creating virtual environment...\n",
      "[  ==] Creating virtual environment...\n",
      "[ ===] Creating virtual environment...\n",
      "[====] Creating virtual environment...\n",
      "[=== ] Creating virtual environment...\n",
      "[==  ] Creating virtual environment...\n",
      "[=   ] Creating virtual environment...\n",
      "[=   ] Creating virtual environment...\n",
      "[=   ] Creating virtual environment...\n",
      "[=== ] Creating virtual environment...\n",
      "[ ===] Creating virtual environment...\n",
      "[  ==] Creating virtual environment...\n",
      "[   =] Creating virtual environment...\n",
      "[    ] Creating virtual environment...\n",
      "[  ==] Creating virtual environment...\n",
      "[ ===] Creating virtual environment...\n",
      "[====] Creating virtual environment...\n",
      "[=== ] Creating virtual environment...\n",
      "[==  ] Creating virtual environment...\n",
      "[=   ] Creating virtual environment...\n",
      "[=   ] Creating virtual environment...\n",
      "[==  ] Creating virtual environment...\n",
      "[=== ] Creating virtual environment...\n",
      "[ ===] Creating virtual environment...\n",
      "[  ==] Creating virtual environment...\n",
      "[   =] Creating virtual environment...\n",
      "[    ] Creating virtual environment...\n",
      "[   =] Creating virtual environment...\n",
      "[  ==] Creating virtual environment...\n",
      "[ ===] Creating virtual environment...\n",
      "[====] Creating virtual environment...\n",
      "[=== ] Creating virtual environment...\n",
      "[==  ] Creating virtual environment...\n",
      "[=   ] Creating virtual environment...\n",
      "[    ] Creating virtual environment...\n",
      "[==  ] Creating virtual environment...\n",
      "[=== ] Creating virtual environment...\n",
      "[ ===] Creating virtual environment...\n",
      "[  ==] Creating virtual environment...\n",
      "[   =] Creating virtual environment...\n",
      "[    ] Creating virtual environment...\n",
      "[   =] Creating virtual environment...\n",
      "[  ==] Creating virtual environment...\n",
      "[ ===] Creating virtual environment...\n",
      "[=== ] Creating virtual environment...\n",
      "[==  ] Creating virtual environment...\n",
      "\n",
      "Installing pyhere...\n",
      "Resolving pyhere...\n",
      "[    ] Installing...\n",
      "Added pyhere to Pipfile's [packages] ...\n",
      "[    ] Installing pyhere...\n",
      "Installation Succeeded\n",
      "[    ] Installing pyhere...\n",
      "[    ] Installing pyhere...\n",
      "\n",
      "Building requirements...\n",
      "[    ] Locking...\n",
      "Resolving dependencies...\n",
      "[    ] Locking...\n",
      "[=   ] Locking...\n",
      "[==  ] Locking...\n",
      "[=== ] Locking...\n",
      "[ ===] Locking...\n",
      "[  ==] Locking...\n",
      "[   =] Locking...\n",
      "[   =] Locking...\n",
      "[  ==] Locking...\n",
      "[ ===] Locking...\n",
      "[====] Locking...\n",
      "[=== ] Locking...\n",
      "[==  ] Locking...\n",
      "[    ] Locking...\n",
      "[=   ] Locking...\n",
      "[==  ] Locking...\n",
      "[=== ] Locking...\n",
      "[ ===] Locking...\n",
      "[  ==] Locking...\n",
      "[    ] Locking...\n",
      "[   =] Locking...\n",
      "[  ==] Locking...\n",
      "[ ===] Locking...\n",
      "[====] Locking...\n",
      "[=== ] Locking...\n",
      "[==  ] Locking...\n",
      "[    ] Locking...\n",
      "[=   ] Locking...\n",
      "[==  ] Locking...\n",
      "[=== ] Locking...\n",
      "[ ===] Locking...\n",
      "[   =] Locking...\n",
      "[    ] Locking...\n",
      "[   =] Locking...\n",
      "[  ==] Locking...\n",
      "[ ===] Locking...\n",
      "[====] Locking...\n",
      "[=== ] Locking...\n",
      "[==  ] Locking...\n",
      "[    ] Locking...\n",
      "[=   ] Locking...\n",
      "[==  ] Locking...\n",
      "[=== ] Locking...\n",
      "[ ===] Locking...\n",
      "[  ==] Locking...\n",
      "[    ] Locking...\n",
      "[   =] Locking...\n",
      "[  ==] Locking...\n",
      "[ ===] Locking...\n",
      "[====] Locking...\n",
      "[=== ] Locking...\n",
      "[==  ] Locking...\n",
      "[=   ] Locking...\n",
      "[    ] Locking...\n",
      "[=   ] Locking...\n",
      "[==  ] Locking...\n",
      "[=== ] Locking...\n",
      "[  ==] Locking...\n",
      "Success!\n",
      "[  ==] Locking...\n",
      "[  ==] Locking...\n",
      "\n",
      "Installing dependencies from Pipfile.lock (775fa7)...\n",
      "To activate this project's virtualenv, run pipenv shell.\n",
      "Alternatively, run a command inside the virtualenv with pipenv run.\n"
     ]
    },
    {
     "name": "stderr",
     "output_type": "stream",
     "text": [
      "Creating a virtualenv for this project...\n",
      "Pipfile: C:\\Users\\ibennett\\Documents\\GitHub\\Chicago-green-space-final\\procedure\\code\\Pipfile\n",
      "Using default python from C:\\ProgramData\\anaconda3\\python.exe (3.11.5) to create virtualenv...\n",
      "created virtual environment CPython3.11.5.final.0-64 in 4359ms\n",
      "  creator CPython3Windows(dest=C:\\Users\\ibennett\\.virtualenvs\\code-xLvIkiip, clear=False, no_vcs_ignore=False, global=False)\n",
      "  seeder FromAppData(download=False, pip=bundle, setuptools=bundle, wheel=bundle, via=copy, app_data_dir=C:\\Users\\ibennett\\AppData\\Local\\pypa\\virtualenv)\n",
      "    added seed packages: pip==23.3.1, setuptools==68.2.2, wheel==0.41.3\n",
      "  activators BashActivator,BatchActivator,FishActivator,NushellActivator,PowerShellActivator,PythonActivator\n",
      "\n",
      "Successfully created virtual environment!\n",
      "Virtualenv location: C:\\Users\\ibennett\\.virtualenvs\\code-xLvIkiip\n",
      "Creating a Pipfile for this project...\n",
      "Pipfile.lock not found, creating...\n",
      "Locking [packages] dependencies...\n",
      "Locking [dev-packages] dependencies...\n",
      "Updated Pipfile.lock (9c0e952115433d95e82e74a7e014168cbf232d5a0a5a321649785bc806775fa7)!\n"
     ]
    }
   ],
   "source": [
    "!python -m pipenv install pyhere"
   ]
  },
  {
   "cell_type": "markdown",
   "metadata": {
    "id": "26gqe2mtjkwA"
   },
   "source": [
    "When you installed `pyhere`, `pipenv` created a virtual environment for you.\n",
    "\n",
    "You can see the virtualenv's location given above:\n",
    "\n",
    "```\n",
    "Virtualenv location: /root/.local/share/virtualenvs/content-cQIIIOO2\n",
    "```\n",
    "\n",
    "Next, follow [these instructions](https://jupyterlab.readthedocs.io/en/stable/getting_started/installation.html#pipenv) to launch Jupyter using the `pipenv` environment you just created.\n",
    "\n",
    "#### The Pipfile\n",
    "You will see two files in the current notebook folder; refresh JupyterLab's file explorer if you do not.\n",
    "\n",
    "When you are finished with the analysis, move **both** `Pipfile` and `Pipfile.lock` into the `/procedure/environment` folder."
   ]
  },
  {
   "cell_type": "markdown",
   "metadata": {
    "id": "o5wVGooof91k"
   },
   "source": [
    "### Record existing packages\n",
    "If you already have some code that imports Python packages, the `pigar` package can help you figure out which packages you are using.\n",
    "\n",
    "Comment out the first line to run the code below.\n",
    "Run the code once, when you are finished with the analysis and know what packages you are using.\n",
    "\n",
    "This will generate a `requirements.txt` in the `/procedure/environment` folder."
   ]
  },
  {
   "cell_type": "code",
   "execution_count": 3,
   "metadata": {
    "colab": {
     "base_uri": "https://localhost:8080/"
    },
    "id": "0wzieMywf91l",
    "outputId": "3fca492a-80fc-454d-bfe8-4243253f2c88"
   },
   "outputs": [
    {
     "name": "stdout",
     "output_type": "stream",
     "text": [
      "Couldn't find program: 'echo'\n"
     ]
    }
   ],
   "source": [
    "%%script echo skipping\n",
    "!pip install pigar\n",
    "!python -m pigar generate -f ../environment/requirements.txt"
   ]
  },
  {
   "cell_type": "markdown",
   "metadata": {
    "id": "6whdTQbphAFN"
   },
   "source": [
    "#### Cleanup\n",
    "Depending on your setup, the list generated by `pigar` may require cleanup.\n",
    "\n",
    "The goal of cleanup is for the `requirements.txt` to contain only comments (lines starting with #) and lines of the format `[package]==[version]`.\n",
    "\n",
    "Thus, version `1.15.post1` of the `CensusData` package can be represented as `CensusData==1.15.post1`.\n",
    "\n",
    "An example is packages installed with `conda`.\n",
    "These entries may look somewhat like this:\n",
    "```python\n",
    "# Editable install with no version control (pandas==1.3.5)\n",
    "-e /cvmfs/cybergis.illinois.edu/software/conda/cybergisx/python3-0.9.0/lib/python3.8/site-packages/pandas-1.3.5-py3.8.egg-info\n",
    "```\n",
    "Since this essentially installs `pandas` version `1.3.5`, you can replace these two lines with `pandas==1.3.5`.\n"
   ]
  },
  {
   "cell_type": "markdown",
   "metadata": {},
   "source": [
    "## Recovering\n",
    "\n",
    "Depending on what is inside the `/procedure/environment` folder, you will recover the computational environment with different tools.\n",
    "\n",
    "### From a virtual environment\n",
    "\n",
    "If you have a `Pipfile` and a `Pipfile.lock`, run:"
   ]
  },
  {
   "cell_type": "code",
   "execution_count": 4,
   "metadata": {},
   "outputs": [
    {
     "name": "stderr",
     "output_type": "stream",
     "text": [
      "'pipenv' is not recognized as an internal or external command,\n",
      "operable program or batch file.\n"
     ]
    }
   ],
   "source": [
    "!cd ../environment\n",
    "!pipenv sync"
   ]
  },
  {
   "cell_type": "markdown",
   "metadata": {},
   "source": [
    "If you have a `Pipfile` but no `Pipfile.lock`, run:"
   ]
  },
  {
   "cell_type": "code",
   "execution_count": 5,
   "metadata": {},
   "outputs": [
    {
     "name": "stderr",
     "output_type": "stream",
     "text": [
      "'pipenv' is not recognized as an internal or external command,\n",
      "operable program or batch file.\n",
      "'pipenv' is not recognized as an internal or external command,\n",
      "operable program or batch file.\n"
     ]
    }
   ],
   "source": [
    "!cd ../environment\n",
    "!pipenv install\n",
    "!pipenv sync"
   ]
  },
  {
   "cell_type": "markdown",
   "metadata": {},
   "source": [
    "If you have a `environment.yml`, run:"
   ]
  },
  {
   "cell_type": "code",
   "execution_count": 6,
   "metadata": {},
   "outputs": [
    {
     "name": "stderr",
     "output_type": "stream",
     "text": [
      "\n",
      "EnvironmentFileNotFound: 'C:\\Users\\ibennett\\Documents\\GitHub\\Chicago-green-space-final\\procedure\\code\\environment.yml' file not found\n",
      "\n"
     ]
    }
   ],
   "source": [
    "!conda env create -f environment.yml"
   ]
  },
  {
   "cell_type": "markdown",
   "metadata": {},
   "source": [
    "After you recover the virtual environment, activate it for the notebook environment you are using."
   ]
  },
  {
   "cell_type": "markdown",
   "metadata": {},
   "source": [
    "### From a list of packages\n",
    "\n",
    "If you have a `requirements.txt`, then you may want to create a virtual environment with `venv` or `pipenv`.\n",
    "\n",
    "But if you are on a disposable environment, e.g. Google Colab or Binder, then there is no need for a virtual environment;\n",
    "simply run the next code cell.\n",
    "\n",
    "Should you choose `venv`, then create a virtual environment, activate it, then run:"
   ]
  },
  {
   "cell_type": "code",
   "execution_count": 7,
   "metadata": {},
   "outputs": [
    {
     "name": "stdout",
     "output_type": "stream",
     "text": [
      "Defaulting to user installation because normal site-packages is not writeable\n"
     ]
    },
    {
     "name": "stderr",
     "output_type": "stream",
     "text": [
      "ERROR: Could not open requirements file: [Errno 2] No such file or directory: '../environment/requirements.txt'\n"
     ]
    }
   ],
   "source": [
    "# run directly if disposable\n",
    "!pip install -r ../environment/requirements.txt"
   ]
  },
  {
   "cell_type": "markdown",
   "metadata": {},
   "source": [
    "If you choose `pipenv`, refer to the instructions [here](https://docs.pipenv.org/basics/#importing-from-requirements-txt)."
   ]
  }
 ],
 "metadata": {
  "kernelspec": {
   "display_name": "Python 3 (ipykernel)",
   "language": "python",
   "name": "python3"
  },
  "language_info": {
   "codemirror_mode": {
    "name": "ipython",
    "version": 3
   },
   "file_extension": ".py",
   "mimetype": "text/x-python",
   "name": "python",
   "nbconvert_exporter": "python",
   "pygments_lexer": "ipython3",
   "version": "3.11.5"
  }
 },
 "nbformat": 4,
 "nbformat_minor": 4
}
