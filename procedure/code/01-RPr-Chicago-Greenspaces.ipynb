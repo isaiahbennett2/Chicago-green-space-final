{
 "cells": [
  {
   "cell_type": "markdown",
   "metadata": {
    "id": "7gUZzqUXf91d"
   },
   "source": [
    "# Analysis\n",
    "\n",
    "Template for Jupyter notebooks running Python."
   ]
  },
  {
   "cell_type": "markdown",
   "metadata": {
    "id": "ynQbJHvcVm55"
   },
   "source": [
    "Version 0.1.0 \\| First Created July 12, 2023 \\| Updated August 01, 2023\n",
    "\n",
    "## Jupyter Notebook\n",
    "\n",
    "This is an Jupyter Notebook document. For more details on using a Jupyter Notebook see <https://docs.jupyter.org/en/latest/>.\n",
    "\n"
   ]
  },
  {
   "cell_type": "markdown",
   "metadata": {},
   "source": [
    "# Reproduction of Urban Environmental Justice of Green Space Access in Chicago\n",
    "\n",
    "### Authors\n",
    "\n",
    "- Isaiah Bennett\\*, ibennett@middlebury.edu, @isaiahbennett2, ORCID link, Middlebury\n",
    "- Tate Sutter, tsutter@middlebury.edu, @githubname, ORCID link, affiliated institution(s)\n",
    "\n",
    "\\* Corresponding author and creator\n",
    "\n"
   ]
  },
  {
   "cell_type": "markdown",
   "metadata": {},
   "source": [
    "### Abstract\n",
    "\n",
    "This study is a *reproduction* of:\n",
    "\n",
    "The lab called \"Urban Environmental Justice of Green Space Access in Chicago\" from Middlebury College's Human Geography with GIS class. \n",
    "\n",
    "The abstract of the original study is as follows: \n",
    "\n",
    "Green space provide numerous public health, social, and environmental benefits to cities and their residents. These include\n",
    "mitigation of urban heat, improved storm water management and water quality, improved air quality, expanded access to\n",
    "exercise, and the social-psychological benefits of enjoying nature.\n",
    "\n",
    "In this lab, we will conduct a GIS study similar to Wolch, Wilson and Fehrenbach's (2005) research on access to green\n",
    "spaces in Los Angeles, California. Wolch et al's purpose was to assess the environmental justice implications of municipal\n",
    "green spaces and recreation funding policies (Proposition K), asking whether minority groups, and especially minority\n",
    "children, were disproportionately excluded from access to green spaces. They operationalized the concept of \"access\" in\n",
    "terms of both the proximity and the total area of green spaces, and found significant disparities between racial/ethnic\n",
    "groups, rooted in histories of bias and segregation.\n",
    "\n",
    "Our purpose is to assess people's access to green space (parks and forests) in segregated neighborhoods of Chicago. To do\n",
    "so, we will estimate indicators of access to green space according to regions where Asian, Black, Latinx, or White\n",
    "ethnic/racial groups are the majority (60% of the population or more), and Mixed neighborhoods where no single group\n",
    "makes up 60% or more of the population. The indicators of green space access are:\n",
    "\n",
    "• Percentage of people living within 0.25 miles of a green space\n",
    "\n",
    "• Green space area per person (in square meters)\n",
    "\n",
    "\n",
    "\n",
    "\n",
    "A graphical abstract of the study could also be included as an image here.\n",
    "\n"
   ]
  },
  {
   "cell_type": "markdown",
   "metadata": {},
   "source": [
    "### Study metadata\n",
    "\n",
    "- `Key words`: Comma-separated list of keywords (tags) for searchability. Geographers often use one or two keywords each for: theory, geographic context, and methods.\n",
    "- `Subject`: select from the [BePress Taxonomy](http://digitalcommons.bepress.com/cgi/viewcontent.cgi?article=1008&context=reference)\n",
    "- `Date created`: date when project was started\n",
    "- `Date modified`: date of most recent revision\n",
    "- `Spatial Coverage`: Specify the geographic extent of your study. This may be a place name and link to a feature in a gazetteer like GeoNames or OpenStreetMap, or a well known text (WKT) representation of a bounding box.\n",
    "- `Spatial Resolution`: Specify the spatial resolution as a scale factor, description of the level of detail of each unit of observation (including administrative level of administrative areas), and/or or distance of a raster GRID size\n",
    "- `Spatial Reference System`: Specify the geographic or projected coordinate system for the study, e.g. EPSG:4326\n",
    "- `Temporal Coverage`: Specify the temporal extent of your study---i.e. the range of time represented by the data observations.\n",
    "- `Temporal Resolution`: Specify the temporal resolution of your study---i.e. the duration of time for which each observation represents or the revisit period for repeated observations\n",
    "- `Funding Name`: name of funding for the project\n",
    "- `Funding Title`: title of project grant\n",
    "- `Award info URI`: web address for award information\n",
    "- `Award number`: award number\n",
    "\n",
    "#### Original study spatio-temporal metadata\n",
    "\n",
    "- `Spatial Coverage`: extent of original study\n",
    "- `Spatial Resolution`: resolution of original study\n",
    "- `Spatial Reference System`: spatial reference system of original study\n",
    "- `Temporal Coverage`: temporal extent of original study\n",
    "- `Temporal Resolution`: temporal resolution of original study\n",
    "\n"
   ]
  },
  {
   "cell_type": "markdown",
   "metadata": {},
   "source": [
    "## Study design\n",
    "\n",
    "Describe how the study relates to prior literature, e.g. is it a **original study**, **meta-analysis study**, **reproduction study**, **reanalysis study**, or **replication study**?\n",
    "\n",
    "Also describe the original study archetype, e.g. is it **observational**, **experimental**, **quasi-experimental**, or **exploratory**?\n",
    "\n",
    "Enumerate specific **hypotheses** to be tested or **research questions** to be investigated here, and specify the type of method, statistical test or model to be used on the hypothesis or question.\n",
    "\n",
    "## Materials and procedure"
   ]
  },
  {
   "cell_type": "code",
   "execution_count": 1,
   "metadata": {
    "tags": []
   },
   "outputs": [
    {
     "name": "stdout",
     "output_type": "stream",
     "text": [
      "Python 3.11.5\n",
      "Collecting pandas==2.1.3 (from -r ../environment/requirements.txt (line 1))\n",
      "  Obtaining dependency information for pandas==2.1.3 from https://files.pythonhosted.org/packages/d6/7c/20e737300f9bec011fb79c01d8948bc38c854876aac2da2cfcdd0992b153/pandas-2.1.3-cp311-cp311-macosx_11_0_arm64.whl.metadata\n",
      "  Downloading pandas-2.1.3-cp311-cp311-macosx_11_0_arm64.whl.metadata (18 kB)\n",
      "Collecting geopandas==0.14.1 (from -r ../environment/requirements.txt (line 2))\n",
      "  Obtaining dependency information for geopandas==0.14.1 from https://files.pythonhosted.org/packages/3e/cf/ede993ed7070c5487e6db550aad490178c06eaa48ad26ff5e5263f995fba/geopandas-0.14.1-py3-none-any.whl.metadata\n",
      "  Downloading geopandas-0.14.1-py3-none-any.whl.metadata (1.5 kB)\n",
      "Collecting pyhere==1.0.0 (from -r ../environment/requirements.txt (line 3))\n",
      "  Downloading pyhere-1.0.0-py3-none-any.whl (4.2 kB)\n",
      "Collecting folium==0.14.0 (from -r ../environment/requirements.txt (line 4))\n",
      "  Downloading folium-0.14.0-py2.py3-none-any.whl (102 kB)\n",
      "\u001b[2K     \u001b[90m━━━━━━━━━━━━━━━━━━━━━━━━━━━━━━━━━━━━━━━\u001b[0m \u001b[32m102.3/102.3 kB\u001b[0m \u001b[31m4.3 MB/s\u001b[0m eta \u001b[36m0:00:00\u001b[0m\n",
      "\u001b[?25hRequirement already satisfied: numpy<2,>=1.23.2 in /Users/isaiahbennett/anaconda3/lib/python3.11/site-packages (from pandas==2.1.3->-r ../environment/requirements.txt (line 1)) (1.24.3)\n",
      "Requirement already satisfied: python-dateutil>=2.8.2 in /Users/isaiahbennett/anaconda3/lib/python3.11/site-packages (from pandas==2.1.3->-r ../environment/requirements.txt (line 1)) (2.8.2)\n",
      "Requirement already satisfied: pytz>=2020.1 in /Users/isaiahbennett/anaconda3/lib/python3.11/site-packages (from pandas==2.1.3->-r ../environment/requirements.txt (line 1)) (2023.3.post1)\n",
      "Requirement already satisfied: tzdata>=2022.1 in /Users/isaiahbennett/anaconda3/lib/python3.11/site-packages (from pandas==2.1.3->-r ../environment/requirements.txt (line 1)) (2023.3)\n",
      "Collecting fiona>=1.8.21 (from geopandas==0.14.1->-r ../environment/requirements.txt (line 2))\n",
      "  Obtaining dependency information for fiona>=1.8.21 from https://files.pythonhosted.org/packages/62/50/cc0cbc48d4f11899611edfb23a99d9d43101d3d28f2ef90a5506782cae84/fiona-1.9.5-cp311-cp311-macosx_11_0_arm64.whl.metadata\n",
      "  Downloading fiona-1.9.5-cp311-cp311-macosx_11_0_arm64.whl.metadata (49 kB)\n",
      "\u001b[2K     \u001b[90m━━━━━━━━━━━━━━━━━━━━━━━━━━━━━━━━━━━━━━━━\u001b[0m \u001b[32m49.7/49.7 kB\u001b[0m \u001b[31m7.0 MB/s\u001b[0m eta \u001b[36m0:00:00\u001b[0m\n",
      "\u001b[?25hRequirement already satisfied: packaging in /Users/isaiahbennett/anaconda3/lib/python3.11/site-packages (from geopandas==0.14.1->-r ../environment/requirements.txt (line 2)) (23.1)\n",
      "Collecting pyproj>=3.3.0 (from geopandas==0.14.1->-r ../environment/requirements.txt (line 2))\n",
      "  Obtaining dependency information for pyproj>=3.3.0 from https://files.pythonhosted.org/packages/30/bd/b9bd3761f08754e8dbb34c5a647db2099b348ab5da338e90980caf280e37/pyproj-3.6.1-cp311-cp311-macosx_11_0_arm64.whl.metadata\n",
      "  Downloading pyproj-3.6.1-cp311-cp311-macosx_11_0_arm64.whl.metadata (31 kB)\n",
      "Collecting shapely>=1.8.0 (from geopandas==0.14.1->-r ../environment/requirements.txt (line 2))\n",
      "  Obtaining dependency information for shapely>=1.8.0 from https://files.pythonhosted.org/packages/2c/b1/ca09649b4abe06366d41e90c3eee95a7741657404404a63bd0e8b53e32b8/shapely-2.0.2-cp311-cp311-macosx_11_0_arm64.whl.metadata\n",
      "  Downloading shapely-2.0.2-cp311-cp311-macosx_11_0_arm64.whl.metadata (7.0 kB)\n",
      "Collecting branca>=0.6.0 (from folium==0.14.0->-r ../environment/requirements.txt (line 4))\n",
      "  Obtaining dependency information for branca>=0.6.0 from https://files.pythonhosted.org/packages/2f/e7/603b136221de923055716d23e3047da71f92e0d8ba2c4517ce49a54fe768/branca-0.7.0-py3-none-any.whl.metadata\n",
      "  Downloading branca-0.7.0-py3-none-any.whl.metadata (1.5 kB)\n",
      "Requirement already satisfied: jinja2>=2.9 in /Users/isaiahbennett/anaconda3/lib/python3.11/site-packages (from folium==0.14.0->-r ../environment/requirements.txt (line 4)) (3.1.2)\n",
      "Requirement already satisfied: requests in /Users/isaiahbennett/anaconda3/lib/python3.11/site-packages (from folium==0.14.0->-r ../environment/requirements.txt (line 4)) (2.31.0)\n",
      "Requirement already satisfied: attrs>=19.2.0 in /Users/isaiahbennett/anaconda3/lib/python3.11/site-packages (from fiona>=1.8.21->geopandas==0.14.1->-r ../environment/requirements.txt (line 2)) (22.1.0)\n",
      "Requirement already satisfied: certifi in /Users/isaiahbennett/anaconda3/lib/python3.11/site-packages (from fiona>=1.8.21->geopandas==0.14.1->-r ../environment/requirements.txt (line 2)) (2023.7.22)\n",
      "Requirement already satisfied: click~=8.0 in /Users/isaiahbennett/anaconda3/lib/python3.11/site-packages (from fiona>=1.8.21->geopandas==0.14.1->-r ../environment/requirements.txt (line 2)) (8.0.4)\n",
      "Collecting click-plugins>=1.0 (from fiona>=1.8.21->geopandas==0.14.1->-r ../environment/requirements.txt (line 2))\n",
      "  Downloading click_plugins-1.1.1-py2.py3-none-any.whl (7.5 kB)\n",
      "Collecting cligj>=0.5 (from fiona>=1.8.21->geopandas==0.14.1->-r ../environment/requirements.txt (line 2))\n",
      "  Downloading cligj-0.7.2-py3-none-any.whl (7.1 kB)\n",
      "Requirement already satisfied: six in /Users/isaiahbennett/anaconda3/lib/python3.11/site-packages (from fiona>=1.8.21->geopandas==0.14.1->-r ../environment/requirements.txt (line 2)) (1.16.0)\n",
      "Requirement already satisfied: setuptools in /Users/isaiahbennett/anaconda3/lib/python3.11/site-packages (from fiona>=1.8.21->geopandas==0.14.1->-r ../environment/requirements.txt (line 2)) (68.0.0)\n",
      "Requirement already satisfied: MarkupSafe>=2.0 in /Users/isaiahbennett/anaconda3/lib/python3.11/site-packages (from jinja2>=2.9->folium==0.14.0->-r ../environment/requirements.txt (line 4)) (2.1.1)\n",
      "Requirement already satisfied: charset-normalizer<4,>=2 in /Users/isaiahbennett/anaconda3/lib/python3.11/site-packages (from requests->folium==0.14.0->-r ../environment/requirements.txt (line 4)) (2.0.4)\n",
      "Requirement already satisfied: idna<4,>=2.5 in /Users/isaiahbennett/anaconda3/lib/python3.11/site-packages (from requests->folium==0.14.0->-r ../environment/requirements.txt (line 4)) (3.4)\n",
      "Requirement already satisfied: urllib3<3,>=1.21.1 in /Users/isaiahbennett/anaconda3/lib/python3.11/site-packages (from requests->folium==0.14.0->-r ../environment/requirements.txt (line 4)) (1.26.16)\n",
      "Downloading pandas-2.1.3-cp311-cp311-macosx_11_0_arm64.whl (10.8 MB)\n",
      "\u001b[2K   \u001b[90m━━━━━━━━━━━━━━━━━━━━━━━━━━━━━━━━━━━━━━━━\u001b[0m \u001b[32m10.8/10.8 MB\u001b[0m \u001b[31m20.9 MB/s\u001b[0m eta \u001b[36m0:00:00\u001b[0m00:01\u001b[0m0:01\u001b[0m\n",
      "\u001b[?25hDownloading geopandas-0.14.1-py3-none-any.whl (1.1 MB)\n",
      "\u001b[2K   \u001b[90m━━━━━━━━━━━━━━━━━━━━━━━━━━━━━━━━━━━━━━━━\u001b[0m \u001b[32m1.1/1.1 MB\u001b[0m \u001b[31m20.4 MB/s\u001b[0m eta \u001b[36m0:00:00\u001b[0ma \u001b[36m0:00:01\u001b[0m\n",
      "\u001b[?25hDownloading branca-0.7.0-py3-none-any.whl (25 kB)\n",
      "Downloading fiona-1.9.5-cp311-cp311-macosx_11_0_arm64.whl (14.0 MB)\n",
      "\u001b[2K   \u001b[90m━━━━━━━━━━━━━━━━━━━━━━━━━━━━━━━━━━━━━━━━\u001b[0m \u001b[32m14.0/14.0 MB\u001b[0m \u001b[31m21.8 MB/s\u001b[0m eta \u001b[36m0:00:00\u001b[0m00:01\u001b[0m00:01\u001b[0m\n",
      "\u001b[?25hDownloading pyproj-3.6.1-cp311-cp311-macosx_11_0_arm64.whl (4.9 MB)\n",
      "\u001b[2K   \u001b[90m━━━━━━━━━━━━━━━━━━━━━━━━━━━━━━━━━━━━━━━━\u001b[0m \u001b[32m4.9/4.9 MB\u001b[0m \u001b[31m20.7 MB/s\u001b[0m eta \u001b[36m0:00:00\u001b[0m00:01\u001b[0m00:01\u001b[0m\n",
      "\u001b[?25hDownloading shapely-2.0.2-cp311-cp311-macosx_11_0_arm64.whl (1.3 MB)\n",
      "\u001b[2K   \u001b[90m━━━━━━━━━━━━━━━━━━━━━━━━━━━━━━━━━━━━━━━━\u001b[0m \u001b[32m1.3/1.3 MB\u001b[0m \u001b[31m19.2 MB/s\u001b[0m eta \u001b[36m0:00:00\u001b[0ma \u001b[36m0:00:01\u001b[0m\n",
      "\u001b[?25hInstalling collected packages: shapely, pyproj, pyhere, cligj, click-plugins, pandas, fiona, branca, geopandas, folium\n",
      "  Attempting uninstall: pandas\n",
      "    Found existing installation: pandas 2.0.3\n",
      "    Uninstalling pandas-2.0.3:\n",
      "      Successfully uninstalled pandas-2.0.3\n",
      "Successfully installed branca-0.7.0 click-plugins-1.1.1 cligj-0.7.2 fiona-1.9.5 folium-0.14.0 geopandas-0.14.1 pandas-2.1.3 pyhere-1.0.0 pyproj-3.6.1 shapely-2.0.2\n"
     ]
    }
   ],
   "source": [
    "# report python version and install required packages\n",
    "# switch if statement from True to False once packages have been installed\n",
    "if True:\n",
    "    !python -V\n",
    "    !pip install -r ../environment/requirements.txt"
   ]
  },
  {
   "cell_type": "code",
   "execution_count": 2,
   "metadata": {
    "tags": []
   },
   "outputs": [],
   "source": [
    "# Import modules\n",
    "import numpy as np\n",
    "import pandas as pd\n",
    "import geopandas as gpd\n",
    "import folium "
   ]
  },
  {
   "cell_type": "markdown",
   "metadata": {
    "id": "lpUbJuwsgQJu"
   },
   "source": [
    "## Computational environment\n",
    "\n",
    "Maintaining a reproducible computational environment requires some conscious choices in package management.\n",
    "\n",
    "Please refer to `00-Python-environment-setup.ipynb` for details.\n",
    "\n"
   ]
  },
  {
   "cell_type": "code",
   "execution_count": null,
   "metadata": {},
   "outputs": [],
   "source": [
    "# Import modules, define directories\n",
    "from pyhere import here\n",
    "\n",
    "# You can define your own shortcuts for file paths:\n",
    "path = {\n",
    "    \"dscr\": here(\"data\", \"scratch\"),\n",
    "    \"drpub\": here(\"data\", \"raw\", \"public\"),\n",
    "    \"drpriv\": here(\"data\", \"raw\", \"private\"),\n",
    "    \"ddpub\": here(\"data\", \"derived\", \"public\"),\n",
    "    \"ddpriv\": here(\"data\", \"derived\", \"private\"),\n",
    "    \"rfig\": here(\"results\", \"figures\"),\n",
    "    \"roth\": here(\"results\", \"other\"),\n",
    "    \"rtab\": here(\"results\", \"tables\"),\n",
    "    \"dmet\": here(\"data\", \"metadata\")\n",
    "}"
   ]
  },
  {
   "cell_type": "markdown",
   "metadata": {
    "id": "dEwHjXmlVXZI"
   },
   "source": [
    "### Data and variables\n",
    "\n",
    "Describe the **data sources** and **variables** to be used.\n",
    "Data sources may include plans for observing and recording **primary data** or descriptions of **secondary data**.\n",
    "For secondary data sources with numerous variables, the analysis plan authors may focus on documenting only the variables intended for use in the study.\n",
    "\n",
    "Primary data sources for the study are to include ... .\n",
    "Secondary data sources for the study are to include ... .\n",
    "\n",
    "Each of the next subsections describes one data source.\n",
    "\n"
   ]
  },
  {
   "cell_type": "markdown",
   "metadata": {},
   "source": [
    "#### Primary data source1 name\n",
    "\n",
    "**Standard Metadata**\n",
    "\n",
    "- `Abstract`: Brief description of the data source\n",
    "- `Spatial Coverage`: Specify the geographic extent of your study. This may be a place name and link to a feature in a gazetteer like GeoNames or OpenStreetMap, or a well known text (WKT) representation of a bounding box.\n",
    "- `Spatial Resolution`: Specify the spatial resolution as a scale factor, description of the level of detail of each unit of observation (including administrative level of administrative areas), and/or or distance of a raster GRID size\n",
    "- `Spatial Reference System`: Specify the geographic or projected coordinate system for the study\n",
    "- `Temporal Coverage`: Specify the temporal extent of your study---i.e. the range of time represented by the data observations.\n",
    "- `Temporal Resolution`: Specify the temporal resolution of your study---i.e. the duration of time for which each observation represents or the revisit period for repeated observations\n",
    "- `Lineage`: Describe and/or cite data sources and/or methodological steps planned to create this data source.\n",
    "  - sampling scheme, including spatial sampling\n",
    "  - target sample size and method for determining sample size\n",
    "  - stopping criteria for data collection and sampling (e.g. sample size, time elapsed)\n",
    "  - de-identification / anonymization\n",
    "  - experimental manipulation\n",
    "- `Distribution`: Describe who will make the data available and how?\n",
    "- `Constraints`: Legal constraints for *access* or *use* to protect *privacy* or *intellectual property rights*\n",
    "- `Data Quality`: State any planned quality assessment\n",
    "- `Variables`: For each variable, enter the following information. If you have two or more variables per data source, you may want to present this information in table form (shown below)\n",
    "  - `Label`: variable name as used in the data or code\n",
    "  - `Alias`: intuitive natural language name\n",
    "  - `Definition`: Short description or definition of the variable. Include measurement units in description.\n",
    "  - `Type`: data type, e.g. character string, integer, real\n",
    "  - `Accuracy`: e.g. uncertainty of measurements\n",
    "  - `Domain`: Expected range of Maximum and Minimum of numerical data, or codes or categories of nominal data, or reference to a standard codebook\n",
    "  - `Missing Data Value(s)`: Values used to represent missing data and frequency of missing data observations\n",
    "  - `Missing Data Frequency`: Frequency of missing data observations: not yet known for data to be collected\n",
    "\n",
    "| Label | Alias | Definition | Type | Accuracy | Domain | Missing Data Value(s) | Missing Data Frequency |\n",
    "| :--: | :--: | :--: | :--: | :--: | :--: | :--: | :--: |\n",
    "| variable1 | ... | ... | ... | ... | ... | ... | ... |\n",
    "| variable2 | ... | ... | ... | ... | ... | ... | ... |\n",
    "\n"
   ]
  },
  {
   "cell_type": "markdown",
   "metadata": {},
   "source": [
    "#### Primary data source2 name\n",
    "\n",
    "... same form as above...\n",
    "\n"
   ]
  },
  {
   "cell_type": "markdown",
   "metadata": {},
   "source": [
    "#### Secondary data source1 name\n",
    "\n",
    "**Standard Metadata**\n",
    "\n",
    "- `Abstract`: Brief description of the data source\n",
    "- `Spatial Coverage`: Specify the geographic extent of your study. This may be a place name and link to a feature in a gazetteer like GeoNames or OpenStreetMap, or a well known text (WKT) representation of a bounding box.\n",
    "- `Spatial Resolution`: Specify the spatial resolution as a scale factor, description of the level of detail of each unit of observation (including administrative level of administrative areas), and/or or distance of a raster GRID size\n",
    "- `Spatial Reference System`: Specify the geographic or projected coordinate system for the study\n",
    "- `Temporal Coverage`: Specify the temporal extent of your study---i.e. the range of time represented by the data observations.\n",
    "- `Temporal Resolution`: Specify the temporal resolution of your study---i.e. the duration of time for which each observation represents or the revisit period for repeated observations\n",
    "- `Lineage`: Describe and/or cite data sources and/or methodological steps used to create this data source\n",
    "- `Distribution`: Describe how the data is distributed, including any persistent identifier (e.g. DOI) or URL for data access\n",
    "- `Constraints`: Legal constraints for *access* or *use* to protect *privacy* or *intellectual property rights*\n",
    "- `Data Quality`: State result of quality assessment or state \"Quality unknown\"\n",
    "- `Variables`: For each variable, enter the following information. If you have two or more variables per data source, you may want to present this information in table form (shown below)\n",
    "  - `Label`: variable name as used in the data or code\n",
    "  - `Alias`: intuitive natural language name\n",
    "  - `Definition`: Short description or definition of the variable. Include measurement units in description.\n",
    "  - `Type`: data type, e.g. character string, integer, real\n",
    "  - `Accuracy`: e.g. uncertainty of measurements\n",
    "  - `Domain`: Range (Maximum and Minimum) of numerical data, or codes or categories of nominal data, or reference to a standard codebook\n",
    "  - `Missing Data Value(s)`: Values used to represent missing data and frequency of missing data observations\n",
    "  - `Missing Data Frequency`: Frequency of missing data observations\n",
    "\n",
    "| Label | Alias | Definition | Type | Accuracy | Domain | Missing Data Value(s) | Missing Data Frequency |\n",
    "| :--: | :--: | :--: | :--: | :--: | :--: | :--: | :--: |\n",
    "| variable1 | ... | ... | ... | ... | ... | ... | ... |\n",
    "| variable2 | ... | ... | ... | ... | ... | ... | ... |\n",
    "\n"
   ]
  },
  {
   "cell_type": "markdown",
   "metadata": {},
   "source": [
    "#### Secondary data source2 name\n",
    "\n",
    "... same form as above...\n",
    "\n"
   ]
  },
  {
   "cell_type": "markdown",
   "metadata": {},
   "source": [
    "### Prior observations  \n",
    "\n",
    "Prior experience with the study area, prior data collection, or prior observation of the data can compromise the validity of a study, e.g. through p-hacking.\n",
    "Therefore, disclose any prior experience or observations at the time of study pre-registration here, with example text below:\n",
    "\n",
    "At the time of this study pre-registration, the authors had _____ prior knowledge of the geography of the study region with regards to the ____ phenomena to be studied.\n",
    "This study is related to ____ prior studies by the authors\n",
    "\n",
    "For each primary data source, declare the extent to which authors had already engaged with the data:\n",
    "\n",
    "- [ ] no data collection has started\n",
    "- [ ] pilot test data has been collected\n",
    "- [ ] data collection is in progress and data has not been observed\n",
    "- [ ] data collection is in progress and __% of data has been observed\n",
    "- [ ] data collection is complete and data has been observed. Explain how authors have already manipulated / explored the data.\n",
    "\n",
    "For each secondary source, declare the extent to which authors had already engaged with the data:\n",
    "\n",
    "- [ ] data is not available yet\n",
    "- [ ] data is available, but only metadata has been observed\n",
    "- [ ] metadata and descriptive statistics have been observed\n",
    "- [ ] metadata and a pilot test subset or sample of the full dataset have been observed\n",
    "- [ ] the full dataset has been observed. Explain how authors have already manipulated / explored the data.\n",
    "\n",
    "If pilot test data has been collected or acquired, describe how the researchers observed and analyzed the pilot test, and the extent to which the pilot test influenced the research design.\n",
    "\n"
   ]
  },
  {
   "cell_type": "markdown",
   "metadata": {},
   "source": [
    "### Bias and threats to validity\n",
    "\n",
    "Given the research design and primary data to be collected and/or secondary data to be used, discuss common threats to validity and the approach to mitigating those threats, with an emphasis on geographic threats to validity.\n",
    "\n",
    "These include:\n",
    "  - uneven primary data collection due to geographic inaccessibility or other constraints\n",
    "  - multiple hypothesis testing\n",
    "  - edge or boundary effects\n",
    "  - the modifiable areal unit problem\n",
    "  - nonstationarity\n",
    "  - spatial dependence or autocorrelation\n",
    "  - temporal dependence or autocorrelation\n",
    "  - spatial scale dependency\n",
    "  - spatial anisotropies\n",
    "  - confusion of spatial and a-spatial causation\n",
    "  - ecological fallacy\n",
    "  - uncertainty e.g. from spatial disaggregation, anonymization, differential privacy\n",
    "\n"
   ]
  },
  {
   "cell_type": "markdown",
   "metadata": {},
   "source": [
    "### Data transformations\n",
    "\n",
    "Describe all data transformations planned to prepare data sources for analysis.\n",
    "This section should explain with the fullest detail possible how to transform data from the **raw** state at the time of acquisition or observation, to the pre-processed **derived** state ready for the main analysis.\n",
    "Including steps to check and mitigate sources of **bias** and **threats to validity**.\n",
    "The method may anticipate **contingencies**, e.g. tests for normality and alternative decisions to make based on the results of the test.\n",
    "More specifically, all the **geographic** and **variable** transformations required to prepare input data as described in the data and variables section above to match the study's spatio-temporal characteristics as described in the study metadata and study design sections.\n",
    "Visual workflow diagrams may help communicate the methodology in this section.\n",
    "\n",
    "Examples of **geographic** transformations include coordinate system transformations, aggregation, disaggregation, spatial interpolation, distance calculations, zonal statistics, etc.\n",
    "\n",
    "Examples of **variable** transformations include standardization, normalization, constructed variables, imputation, classification, etc.\n",
    "\n",
    "Be sure to include any steps planned to **exclude** observations with *missing* or *outlier* data, to **group** observations by *attribute* or *geographic* criteria, or to **impute** missing data or apply spatial or temporal **interpolation**.\n",
    "\n"
   ]
  },
  {
   "cell_type": "markdown",
   "metadata": {},
   "source": [
    "### Analysis\n",
    "\n",
    "Describe the methods of analysis that will directly test the hypotheses or provide results to answer the research questions.\n",
    "This section should explicitly define any spatial / statistical *models* and their *parameters*, including *grouping* criteria, *weighting* criteria, and *significance thresholds*.\n",
    "Also explain any follow-up analyses or validations.\n",
    "\n"
   ]
  },
  {
   "cell_type": "markdown",
   "metadata": {},
   "source": [
    "## Results\n",
    "\n",
    "Describe how results are to be presented.\n",
    "\n"
   ]
  },
  {
   "cell_type": "markdown",
   "metadata": {},
   "source": [
    "## Discussion\n",
    "\n",
    "Describe how the results are to be interpreted *vis a vis* each hypothesis or research question.\n",
    "\n"
   ]
  },
  {
   "cell_type": "markdown",
   "metadata": {},
   "source": [
    "## Integrity Statement\n",
    "\n",
    "Include an integrity statement - The authors of this preregistration state that they completed this preregistration to the best of their knowledge and that no other preregistration exists pertaining to the same hypotheses and research.\n",
    "If a prior registration *does* exist, explain the rationale for revising the registration here.\n",
    "\n"
   ]
  },
  {
   "cell_type": "markdown",
   "metadata": {},
   "source": [
    "# Acknowledgements\n",
    "\n",
    "- `Funding Name`: name of funding for the project\n",
    "- `Funding Title`: title of project grant\n",
    "- `Award info URI`: web address for award information\n",
    "- `Award number`: award number\n",
    "\n",
    "This report is based upon the template for Reproducible and Replicable Research in Human-Environment and Geographical Sciences, DOI:[10.17605/OSF.IO/W29MQ](https://doi.org/10.17605/OSF.IO/W29MQ)"
   ]
  },
  {
   "cell_type": "markdown",
   "metadata": {},
   "source": [
    "## References"
   ]
  }
 ],
 "metadata": {
  "colab": {
   "provenance": []
  },
  "kernelspec": {
   "display_name": "Python 3 (ipykernel)",
   "language": "python",
   "name": "python3"
  },
  "language_info": {
   "codemirror_mode": {
    "name": "ipython",
    "version": 3
   },
   "file_extension": ".py",
   "mimetype": "text/x-python",
   "name": "python",
   "nbconvert_exporter": "python",
   "pygments_lexer": "ipython3",
   "version": "3.11.5"
  }
 },
 "nbformat": 4,
 "nbformat_minor": 4
}
